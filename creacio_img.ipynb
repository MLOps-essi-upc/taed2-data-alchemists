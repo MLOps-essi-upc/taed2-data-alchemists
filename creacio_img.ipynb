{
 "cells": [
  {
   "cell_type": "code",
   "execution_count": 33,
   "id": "aee06bba",
   "metadata": {},
   "outputs": [],
   "source": [
    "import pandas as pd\n",
    "import numpy as np\n",
    "import matplotlib.pyplot as plt\n",
    "import os"
   ]
  },
  {
   "cell_type": "code",
   "execution_count": 45,
   "id": "76cfb8ab",
   "metadata": {},
   "outputs": [],
   "source": [
    "input_file = \"TREBALL DEF/taed2-data-alchemists/data/test.csv\"\n",
    "df = pd.read_csv(input_file)\n",
    "# Extract the pixel values as a numpy array\n",
    "pixels = df.values\n",
    "\n",
    "# Determine the number of rows and columns in the grid\n",
    "num_images = len(df)\n",
    "num_rows = 10  # Adjust the number of rows and columns as needed\n",
    "num_cols = num_images // num_rows\n",
    "\n",
    "\n",
    "# Create a directory to save the images\n",
    "output_dir = 'TREBALL DEF/taed2-data-alchemists/data/test'\n",
    "os.makedirs(output_dir, exist_ok=True)\n",
    "\n",
    "# Iterate through the images and save them to the directory\n",
    "for i in range(num_images):\n",
    "    image = pixels[i, :].reshape(28, 28)  # Assuming 28x28 images\n",
    "    image_filename = os.path.join(output_dir, f'image_{i}.png')\n",
    "    plt.imsave(image_filename, image, cmap='gray')  # Save the image as PNG"
   ]
  },
  {
   "cell_type": "code",
   "execution_count": null,
   "id": "72087d2f",
   "metadata": {},
   "outputs": [],
   "source": []
  }
 ],
 "metadata": {
  "kernelspec": {
   "display_name": "Python 3 (ipykernel)",
   "language": "python",
   "name": "python3"
  },
  "language_info": {
   "codemirror_mode": {
    "name": "ipython",
    "version": 3
   },
   "file_extension": ".py",
   "mimetype": "text/x-python",
   "name": "python",
   "nbconvert_exporter": "python",
   "pygments_lexer": "ipython3",
   "version": "3.9.13"
  }
 },
 "nbformat": 4,
 "nbformat_minor": 5
}
